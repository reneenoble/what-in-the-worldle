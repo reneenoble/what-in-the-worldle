{
 "cells": [
  {
   "cell_type": "markdown",
   "metadata": {},
   "source": [
    "# First Words\n",
    "Finding your very own best first word with data analytics, Jupyter Notebooks, Python, and Matplotlib"
   ]
  },
  {
   "cell_type": "code",
   "execution_count": 39,
   "metadata": {},
   "outputs": [
    {
     "name": "stdout",
     "output_type": "stream",
     "text": [
      "['aahed', 'aalii', 'aargh', 'aarti', 'abaca', 'abaci', 'abacs', 'abaft', 'abaka', 'abamp', 'aband', 'abash', 'abask', 'abaya', 'abbas', 'abbed', 'abbes', 'abcee', 'abeam', 'abear', 'abele', 'abers', 'abets', 'abies', 'abler', 'ables', 'ablet', 'ablow', 'abmho', 'abohm', 'aboil', 'aboma', 'aboon', 'abord', 'abore', 'abram', 'abray', 'abrim', 'abrin', 'abris', 'absey', 'absit', 'abuna', 'abune', 'abuts', 'abuzz', 'abyes', 'abysm', 'acais', 'acari']\n",
      "12947\n"
     ]
    }
   ],
   "source": [
    "# Getting all the allowed guesses\n",
    "with open(\"allowed_words.txt\") as f:\n",
    "    all_words = f.read().split(\"\\n\")\n",
    "print(all_words[:50])\n",
    "print(len(all_words))\n"
   ]
  },
  {
   "cell_type": "markdown",
   "metadata": {},
   "source": [
    "# Vowels and consonants \n",
    "People love to use well en-voweled starting words!\n",
    "\n",
    "Meanwhile, there is an opposing shool of thought about using sonorant consonants (y, w, l, r, m, n, and ng). "
   ]
  },
  {
   "cell_type": "code",
   "execution_count": 40,
   "metadata": {},
   "outputs": [
    {
     "name": "stdout",
     "output_type": "stream",
     "text": [
      "[('adieu', 4), ('auloi', 4), ('aurei', 4), ('louie', 4), ('miaou', 4), ('ouija', 4), ('ourie', 4), ('uraei', 4), ('audio', 4), ('abies', 3), ('aboil', 3), ('abore', 3), ('abune', 3), ('addio', 3), ('adios', 3), ('adoze', 3), ('aduki', 3), ('aecia', 3), ('aegis', 3), ('aeons', 3)]\n"
     ]
    }
   ],
   "source": [
    "# the most en-voweled words\n",
    "from collections import defaultdict\n",
    "\n",
    "vowel_count = defaultdict(int)\n",
    "\n",
    "for word in all_words:\n",
    "    for letter in \"aeiou\":\n",
    "        if letter in word:\n",
    "            vowel_count[word] += 1\n",
    "\n",
    "\n",
    "sorted_vowel_count = sorted(list(vowel_count.items()), key=lambda x:x[1], reverse=True)\n",
    "print(sorted_vowel_count[:20])"
   ]
  },
  {
   "cell_type": "code",
   "execution_count": 41,
   "metadata": {},
   "outputs": [
    {
     "name": "stdout",
     "output_type": "stream",
     "text": [
      "[('v', 12), ('b', 11), ('j', 4), ('a', 1)]\n"
     ]
    }
   ],
   "source": [
    "# A demo on sorting tuples\n",
    "\n",
    "my_dict = {\"a\": 1, \"b\": 11, \"v\": 12, \"j\": 4}\n",
    "new_list = sorted(list(my_dict.items()), key=lambda x:x[1], reverse=True)\n",
    "print(new_list)\n"
   ]
  },
  {
   "cell_type": "code",
   "execution_count": 42,
   "metadata": {},
   "outputs": [
    {
     "name": "stdout",
     "output_type": "stream",
     "text": [
      "[('awmry', 4), ('lawny', 4), ('lowry', 4), ('marly', 4), ('mirly', 4), ('murly', 4), ('mylar', 4), ('nirly', 4), ('rawly', 4), ('rumly', 4), ('wanly', 4), ('womyn', 4), ('wormy', 4), ('wryly', 4), ('newly', 4), ('manly', 4), ('alary', 3), ('alway', 3), ('ambry', 3), ('amyls', 3)]\n"
     ]
    }
   ],
   "source": [
    "# Sonorant consonants galore *y, w, l, r, m, n, and ng*\n",
    "# the most en-voweled words\n",
    "from collections import defaultdict\n",
    "\n",
    "cons_count = defaultdict(int)\n",
    "\n",
    "for word in all_words:\n",
    "    for letter in [\"y\", \"w\", \"l\", \"r\", \"m\", \"n\"]:\n",
    "        if letter in word:\n",
    "            cons_count[word] += 1\n",
    "\n",
    "\n",
    "sorted_cons_count = sorted(list(cons_count.items()), key=lambda x:x[1], reverse=True)\n",
    "print(sorted_cons_count[:20])"
   ]
  },
  {
   "cell_type": "markdown",
   "metadata": {},
   "source": [
    "## Letter Frequency\n",
    "What are the most abundant letters in 5 letter words?"
   ]
  },
  {
   "cell_type": "code",
   "execution_count": 43,
   "metadata": {},
   "outputs": [
    {
     "name": "stdout",
     "output_type": "stream",
     "text": [
      "defaultdict(<class 'int'>, {'a': 5983, 'h': 1754, 'e': 6653, 'd': 2448, 'l': 3366, 'i': 3752, 'r': 4154, 'g': 1639, 't': 3292, 'b': 1624, 'c': 2021, 's': 6649, 'f': 1112, 'k': 1495, 'm': 1975, 'p': 2013, 'n': 2948, 'y': 2066, 'o': 4428, 'w': 1037, 'u': 2508, 'z': 434, 'x': 288, 'v': 693, 'j': 291, 'q': 112})\n"
     ]
    }
   ],
   "source": [
    "# Counting up all the letters in all the words\n",
    "\n",
    "from collections import defaultdict\n",
    "total_count = defaultdict(int)\n",
    "\n",
    "for word in all_words:\n",
    "    for letter in word:\n",
    "        total_count[letter] += 1\n",
    "\n",
    "sorted(total_count.items(), key=lambda x:x[1], reverse=True)\n",
    "print(total_count)"
   ]
  },
  {
   "cell_type": "code",
   "execution_count": 44,
   "metadata": {},
   "outputs": [
    {
     "name": "stdout",
     "output_type": "stream",
     "text": [
      "defaultdict(<class 'int'>, {'a': 5983, 'h': 1754, 'e': 6653, 'd': 2448, 'l': 3366, 'i': 3752, 'r': 4154, 'g': 1639, 't': 3292, 'b': 1624, 'c': 2021, 's': 6649, 'f': 1112, 'k': 1495, 'm': 1975, 'p': 2013, 'n': 2948, 'y': 2066, 'o': 4428, 'w': 1037, 'u': 2508, 'z': 434, 'x': 288, 'v': 693, 'j': 291, 'q': 112})\n"
     ]
    },
    {
     "data": {
      "image/png": "[encoded data removed]",
      "text/plain": [
       "<Figure size 432x288 with 1 Axes>"
      ]
     },
     "metadata": {
      "needs_background": "light"
     },
     "output_type": "display_data"
    }
   ],
   "source": [
    "# Graphing the letter distribution\\\n",
    "\n",
    "import matplotlib.pyplot as plt\n",
    "\n",
    "data = sorted(total_count.items())\n",
    "x = [i[0] for i in data]\n",
    "y = [i[1] for i in data]\n",
    "\n",
    "plt.bar(x, y)\n",
    "\n",
    "print(total_count)"
   ]
  },
  {
   "cell_type": "code",
   "execution_count": 45,
   "metadata": {},
   "outputs": [
    {
     "name": "stdout",
     "output_type": "stream",
     "text": [
      "0.5138642156484128\n"
     ]
    }
   ],
   "source": [
    "# Adding this to our scoring system - what is the scale of the score?\n",
    "\n",
    "total_words = len(all_words)\n",
    "print(total_count[\"e\"]/total_words)\n"
   ]
  },
  {
   "cell_type": "markdown",
   "metadata": {},
   "source": [
    "## Letter Placement\n",
    "Does where we put out letters matter much?"
   ]
  },
  {
   "cell_type": "code",
   "execution_count": 46,
   "metadata": {},
   "outputs": [
    {
     "name": "stdout",
     "output_type": "stream",
     "text": [
      "defaultdict(<class 'int'>, {(0, 'a'): 736, (1, 'a'): 2260, (2, 'h'): 120, (3, 'e'): 2323, (4, 'd'): 822, (2, 'l'): 848, (3, 'i'): 880, (4, 'i'): 280, (2, 'r'): 1197, (3, 'g'): 422, (4, 'h'): 367, (3, 't'): 897, (1, 'b'): 81, (2, 'a'): 1235, (3, 'c'): 406, (4, 'a'): 679, (4, 's'): 3950, (3, 'f'): 233, (4, 't'): 726, (3, 'k'): 500, (3, 'm'): 402, (4, 'p'): 147, (3, 'n'): 786, (3, 's'): 515, (4, 'k'): 257, (3, 'y'): 108, (2, 'b'): 334, (3, 'a'): 1073, (2, 'c'): 392, (4, 'e'): 1519, (2, 'e'): 882, (4, 'm'): 182, (4, 'r'): 673, (3, 'l'): 771, (3, 'r'): 716, (2, 'i'): 1047, (3, 'o'): 696, (4, 'w'): 64, (2, 'm'): 510, (3, 'h'): 235, (4, 'o'): 388, (2, 'o'): 989, (4, 'l'): 475, (4, 'n'): 530, (4, 'y'): 1297, (2, 's'): 531, (2, 'u'): 666, (3, 'z'): 126, (4, 'z'): 32, (2, 'y'): 213, (1, 'c'): 176, (4, 'b'): 59, (3, 'd'): 471, (4, 'g'): 143, (2, 'k'): 268, (4, 'c'): 127, (2, 'n'): 962, (2, 't'): 615, (1, 'd'): 84, (3, 'w'): 128, (2, 'd'): 390, (4, 'x'): 70, (4, 'u'): 67, (3, 'b'): 242, (3, 'u'): 401, (2, 'v'): 240, (2, 'z'): 142, (1, 'e'): 1626, (2, 'g'): 362, (1, 'f'): 24, (4, 'j'): 3, (1, 'g'): 75, (3, 'v'): 155, (1, 'h'): 544, (1, 'i'): 1380, (1, 'j'): 11, (2, 'w'): 271, (1, 'k'): 95, (1, 'l'): 697, (3, 'p'): 418, (2, 'f'): 178, (1, 'm'): 188, (2, 'p'): 363, (1, 'n'): 345, (1, 'p'): 228, (1, 'q'): 15, (1, 'r'): 940, (1, 's'): 93, (1, 't'): 239, (3, 'x'): 12, (1, 'u'): 1185, (2, 'x'): 133, (1, 'v'): 52, (1, 'w'): 163, (1, 'x'): 57, (1, 'y'): 267, (1, 'z'): 29, (0, 'b'): 908, (2, 'j'): 46, (3, 'j'): 29, (4, 'f'): 82, (1, 'o'): 2093, (3, 'q'): 2, (0, 'c'): 920, (2, 'q'): 13, (0, 'd'): 681, (0, 'e'): 303, (0, 'f'): 595, (0, 'g'): 637, (4, 'v'): 4, (0, 'h'): 488, (0, 'i'): 165, (0, 'j'): 202, (0, 'k'): 375, (0, 'l'): 575, (0, 'm'): 693, (0, 'n'): 325, (0, 'o'): 262, (0, 'p'): 857, (0, 'q'): 78, (4, 'q'): 4, (0, 'r'): 628, (0, 's'): 1560, (0, 't'): 815, (0, 'u'): 189, (0, 'v'): 242, (0, 'w'): 411, (0, 'x'): 16, (0, 'y'): 181, (0, 'z'): 105})\n"
     ]
    }
   ],
   "source": [
    "# Counting up letter's places \n",
    "from collections import defaultdict\n",
    "\n",
    "position_count = defaultdict(int)\n",
    "for word in all_words:\n",
    "    for i, letter in enumerate(word):\n",
    "        position_count[(i,letter)] += 1\n",
    "\n",
    "print(position_count)"
   ]
  },
  {
   "cell_type": "code",
   "execution_count": 47,
   "metadata": {},
   "outputs": [
    {
     "data": {
      "text/plain": [
       "([<matplotlib.axis.XTick at 0x117fa97c0>,\n",
       "  <matplotlib.axis.XTick at 0x117fa9790>,\n",
       "  <matplotlib.axis.XTick at 0x117f81430>,\n",
       "  <matplotlib.axis.XTick at 0x117f14e80>,\n",
       "  <matplotlib.axis.XTick at 0x117f28610>,\n",
       "  <matplotlib.axis.XTick at 0x117f28d60>,\n",
       "  <matplotlib.axis.XTick at 0x117f1d4f0>,\n",
       "  <matplotlib.axis.XTick at 0x117f289d0>,\n",
       "  <matplotlib.axis.XTick at 0x117f1db20>,\n",
       "  <matplotlib.axis.XTick at 0x117f19070>,\n",
       "  <matplotlib.axis.XTick at 0x117f19730>,\n",
       "  <matplotlib.axis.XTick at 0x117f19e80>,\n",
       "  <matplotlib.axis.XTick at 0x117f2d610>,\n",
       "  <matplotlib.axis.XTick at 0x117f2dd60>,\n",
       "  <matplotlib.axis.XTick at 0x117f2d700>,\n",
       "  <matplotlib.axis.XTick at 0x117f1df70>,\n",
       "  <matplotlib.axis.XTick at 0x117f0d220>,\n",
       "  <matplotlib.axis.XTick at 0x117f0d8e0>,\n",
       "  <matplotlib.axis.XTick at 0x117f29070>,\n",
       "  <matplotlib.axis.XTick at 0x117f297c0>,\n",
       "  <matplotlib.axis.XTick at 0x117f29b80>,\n",
       "  <matplotlib.axis.XTick at 0x117f0db50>,\n",
       "  <matplotlib.axis.XTick at 0x117f199a0>,\n",
       "  <matplotlib.axis.XTick at 0x117f07460>,\n",
       "  <matplotlib.axis.XTick at 0x117f07bb0>,\n",
       "  <matplotlib.axis.XTick at 0x1207c2340>,\n",
       "  <matplotlib.axis.XTick at 0x1207c2a90>,\n",
       "  <matplotlib.axis.XTick at 0x1207c2610>,\n",
       "  <matplotlib.axis.XTick at 0x117f07520>,\n",
       "  <matplotlib.axis.XTick at 0x1207c50d0>,\n",
       "  <matplotlib.axis.XTick at 0x1207c5730>,\n",
       "  <matplotlib.axis.XTick at 0x1207c5e80>,\n",
       "  <matplotlib.axis.XTick at 0x1207ca610>,\n",
       "  <matplotlib.axis.XTick at 0x1207cad60>,\n",
       "  <matplotlib.axis.XTick at 0x1207ca8b0>,\n",
       "  <matplotlib.axis.XTick at 0x1207c54c0>,\n",
       "  <matplotlib.axis.XTick at 0x1207ce2b0>,\n",
       "  <matplotlib.axis.XTick at 0x1207ce8e0>,\n",
       "  <matplotlib.axis.XTick at 0x1207d3070>,\n",
       "  <matplotlib.axis.XTick at 0x1207d37c0>,\n",
       "  <matplotlib.axis.XTick at 0x1207d5070>,\n",
       "  <matplotlib.axis.XTick at 0x1207d3520>,\n",
       "  <matplotlib.axis.XTick at 0x117f071c0>,\n",
       "  <matplotlib.axis.XTick at 0x1207d5340>,\n",
       "  <matplotlib.axis.XTick at 0x1207d5a90>,\n",
       "  <matplotlib.axis.XTick at 0x1207d8220>,\n",
       "  <matplotlib.axis.XTick at 0x1207d8970>,\n",
       "  <matplotlib.axis.XTick at 0x1207d8c10>,\n",
       "  <matplotlib.axis.XTick at 0x1207d5a60>,\n",
       "  <matplotlib.axis.XTick at 0x1207d3820>,\n",
       "  <matplotlib.axis.XTick at 0x1207de580>,\n",
       "  <matplotlib.axis.XTick at 0x1207decd0>,\n",
       "  <matplotlib.axis.XTick at 0x1207e0460>,\n",
       "  <matplotlib.axis.XTick at 0x1207e0bb0>,\n",
       "  <matplotlib.axis.XTick at 0x1207e0730>,\n",
       "  <matplotlib.axis.XTick at 0x1207de640>,\n",
       "  <matplotlib.axis.XTick at 0x1207e41f0>,\n",
       "  <matplotlib.axis.XTick at 0x1207e4850>,\n",
       "  <matplotlib.axis.XTick at 0x1207e7070>,\n",
       "  <matplotlib.axis.XTick at 0x1207e7730>,\n",
       "  <matplotlib.axis.XTick at 0x1207e7e80>,\n",
       "  <matplotlib.axis.XTick at 0x1207e79d0>,\n",
       "  <matplotlib.axis.XTick at 0x1207e45e0>,\n",
       "  <matplotlib.axis.XTick at 0x1207ed3d0>,\n",
       "  <matplotlib.axis.XTick at 0x1207eda00>,\n",
       "  <matplotlib.axis.XTick at 0x1207f1190>,\n",
       "  <matplotlib.axis.XTick at 0x1207f18e0>,\n",
       "  <matplotlib.axis.XTick at 0x1207f3070>,\n",
       "  <matplotlib.axis.XTick at 0x1207f1550>,\n",
       "  <matplotlib.axis.XTick at 0x1207eda60>,\n",
       "  <matplotlib.axis.XTick at 0x1207de670>,\n",
       "  <matplotlib.axis.XTick at 0x117f29ee0>,\n",
       "  <matplotlib.axis.XTick at 0x1207f3580>,\n",
       "  <matplotlib.axis.XTick at 0x1207f3cd0>,\n",
       "  <matplotlib.axis.XTick at 0x1207f3dc0>,\n",
       "  <matplotlib.axis.XTick at 0x1207c2d60>,\n",
       "  <matplotlib.axis.XTick at 0x1207f1460>,\n",
       "  <matplotlib.axis.XTick at 0x1207f98e0>,\n",
       "  <matplotlib.axis.XTick at 0x1207fc070>,\n",
       "  <matplotlib.axis.XTick at 0x1207fc7c0>,\n",
       "  <matplotlib.axis.XTick at 0x1207fd070>,\n",
       "  <matplotlib.axis.XTick at 0x1207fc790>,\n",
       "  <matplotlib.axis.XTick at 0x1207f99d0>,\n",
       "  <matplotlib.axis.XTick at 0x1207fd5b0>,\n",
       "  <matplotlib.axis.XTick at 0x1207fdbb0>,\n",
       "  <matplotlib.axis.XTick at 0x120805340>,\n",
       "  <matplotlib.axis.XTick at 0x120805af0>,\n",
       "  <matplotlib.axis.XTick at 0x120809280>,\n",
       "  <matplotlib.axis.XTick at 0x120805b50>,\n",
       "  <matplotlib.axis.XTick at 0x1207e0f70>,\n",
       "  <matplotlib.axis.XTick at 0x120809340>,\n",
       "  <matplotlib.axis.XTick at 0x120809dc0>,\n",
       "  <matplotlib.axis.XTick at 0x12080c550>,\n",
       "  <matplotlib.axis.XTick at 0x12080cca0>,\n",
       "  <matplotlib.axis.XTick at 0x12080f430>,\n",
       "  <matplotlib.axis.XTick at 0x12080c640>,\n",
       "  <matplotlib.axis.XTick at 0x1207fd700>,\n",
       "  <matplotlib.axis.XTick at 0x12080f820>,\n",
       "  <matplotlib.axis.XTick at 0x120818040>,\n",
       "  <matplotlib.axis.XTick at 0x120818700>,\n",
       "  <matplotlib.axis.XTick at 0x120818e50>,\n",
       "  <matplotlib.axis.XTick at 0x120818eb0>,\n",
       "  <matplotlib.axis.XTick at 0x12080fd00>,\n",
       "  <matplotlib.axis.XTick at 0x12080c2b0>,\n",
       "  <matplotlib.axis.XTick at 0x12081ea60>,\n",
       "  <matplotlib.axis.XTick at 0x1208261f0>,\n",
       "  <matplotlib.axis.XTick at 0x120826940>,\n",
       "  <matplotlib.axis.XTick at 0x1208270d0>,\n",
       "  <matplotlib.axis.XTick at 0x1208269a0>,\n",
       "  <matplotlib.axis.XTick at 0x12081e7f0>,\n",
       "  <matplotlib.axis.XTick at 0x1208276d0>,\n",
       "  <matplotlib.axis.XTick at 0x120827d30>,\n",
       "  <matplotlib.axis.XTick at 0x1208344c0>,\n",
       "  <matplotlib.axis.XTick at 0x120834c10>,\n",
       "  <matplotlib.axis.XTick at 0x12083b3a0>,\n",
       "  <matplotlib.axis.XTick at 0x1208349d0>,\n",
       "  <matplotlib.axis.XTick at 0x12080ffa0>,\n",
       "  <matplotlib.axis.XTick at 0x12083b3d0>,\n",
       "  <matplotlib.axis.XTick at 0x120840040>,\n",
       "  <matplotlib.axis.XTick at 0x120840670>,\n",
       "  <matplotlib.axis.XTick at 0x120840dc0>,\n",
       "  <matplotlib.axis.XTick at 0x120847550>,\n",
       "  <matplotlib.axis.XTick at 0x1208406d0>,\n",
       "  <matplotlib.axis.XTick at 0x120827040>,\n",
       "  <matplotlib.axis.XTick at 0x120847940>,\n",
       "  <matplotlib.axis.XTick at 0x1208500d0>,\n",
       "  <matplotlib.axis.XTick at 0x120850820>,\n",
       "  <matplotlib.axis.XTick at 0x120854040>,\n",
       "  <matplotlib.axis.XTick at 0x120850d00>,\n",
       "  <matplotlib.axis.XTick at 0x120847cd0>],\n",
       " [Text(1.0, 0, 'a'),\n",
       "  Text(2.2, 0, 'b'),\n",
       "  Text(3.4, 0, 'c'),\n",
       "  Text(4.6, 0, 'd'),\n",
       "  Text(5.8, 0, 'e'),\n",
       "  Text(7.0, 0, 'f'),\n",
       "  Text(8.2, 0, 'g'),\n",
       "  Text(9.4, 0, 'h'),\n",
       "  Text(10.6, 0, 'i'),\n",
       "  Text(11.799999999999999, 0, 'j'),\n",
       "  Text(13.0, 0, 'k'),\n",
       "  Text(14.2, 0, 'l'),\n",
       "  Text(15.399999999999999, 0, 'm'),\n",
       "  Text(16.6, 0, 'n'),\n",
       "  Text(17.8, 0, 'o'),\n",
       "  Text(19.0, 0, 'p'),\n",
       "  Text(20.2, 0, 'q'),\n",
       "  Text(21.4, 0, 'r'),\n",
       "  Text(22.599999999999998, 0, 's'),\n",
       "  Text(23.8, 0, 't'),\n",
       "  Text(25.0, 0, 'u'),\n",
       "  Text(26.2, 0, 'v'),\n",
       "  Text(27.4, 0, 'w'),\n",
       "  Text(28.599999999999998, 0, 'x'),\n",
       "  Text(29.799999999999997, 0, 'y'),\n",
       "  Text(31.0, 0, 'z'),\n",
       "  Text(35.2, 0, 'a'),\n",
       "  Text(36.400000000000006, 0, 'b'),\n",
       "  Text(37.6, 0, 'c'),\n",
       "  Text(38.800000000000004, 0, 'd'),\n",
       "  Text(40.0, 0, 'e'),\n",
       "  Text(41.2, 0, 'f'),\n",
       "  Text(42.400000000000006, 0, 'g'),\n",
       "  Text(43.6, 0, 'h'),\n",
       "  Text(44.800000000000004, 0, 'i'),\n",
       "  Text(46.0, 0, 'j'),\n",
       "  Text(47.2, 0, 'k'),\n",
       "  Text(48.400000000000006, 0, 'l'),\n",
       "  Text(49.6, 0, 'm'),\n",
       "  Text(50.800000000000004, 0, 'n'),\n",
       "  Text(52.0, 0, 'o'),\n",
       "  Text(53.2, 0, 'p'),\n",
       "  Text(54.400000000000006, 0, 'q'),\n",
       "  Text(55.6, 0, 'r'),\n",
       "  Text(56.8, 0, 's'),\n",
       "  Text(58.0, 0, 't'),\n",
       "  Text(59.2, 0, 'u'),\n",
       "  Text(60.400000000000006, 0, 'v'),\n",
       "  Text(61.6, 0, 'w'),\n",
       "  Text(62.8, 0, 'x'),\n",
       "  Text(64.0, 0, 'y'),\n",
       "  Text(65.2, 0, 'z'),\n",
       "  Text(69.4, 0, 'a'),\n",
       "  Text(70.60000000000001, 0, 'b'),\n",
       "  Text(71.80000000000001, 0, 'c'),\n",
       "  Text(73.0, 0, 'd'),\n",
       "  Text(74.2, 0, 'e'),\n",
       "  Text(75.4, 0, 'f'),\n",
       "  Text(76.60000000000001, 0, 'g'),\n",
       "  Text(77.80000000000001, 0, 'h'),\n",
       "  Text(79.0, 0, 'i'),\n",
       "  Text(80.2, 0, 'j'),\n",
       "  Text(81.4, 0, 'k'),\n",
       "  Text(82.60000000000001, 0, 'l'),\n",
       "  Text(83.80000000000001, 0, 'm'),\n",
       "  Text(85.0, 0, 'n'),\n",
       "  Text(86.2, 0, 'o'),\n",
       "  Text(87.4, 0, 'p'),\n",
       "  Text(88.60000000000001, 0, 'q'),\n",
       "  Text(89.80000000000001, 0, 'r'),\n",
       "  Text(91.0, 0, 's'),\n",
       "  Text(92.2, 0, 't'),\n",
       "  Text(93.4, 0, 'u'),\n",
       "  Text(94.60000000000001, 0, 'v'),\n",
       "  Text(95.80000000000001, 0, 'w'),\n",
       "  Text(97.0, 0, 'x'),\n",
       "  Text(98.2, 0, 'y'),\n",
       "  Text(99.4, 0, 'z'),\n",
       "  Text(103.60000000000001, 0, 'a'),\n",
       "  Text(104.80000000000001, 0, 'b'),\n",
       "  Text(106.00000000000001, 0, 'c'),\n",
       "  Text(107.2, 0, 'd'),\n",
       "  Text(108.4, 0, 'e'),\n",
       "  Text(109.60000000000001, 0, 'f'),\n",
       "  Text(110.80000000000001, 0, 'g'),\n",
       "  Text(112.00000000000001, 0, 'h'),\n",
       "  Text(113.2, 0, 'i'),\n",
       "  Text(114.4, 0, 'j'),\n",
       "  Text(115.60000000000001, 0, 'k'),\n",
       "  Text(116.80000000000001, 0, 'l'),\n",
       "  Text(118.0, 0, 'm'),\n",
       "  Text(119.2, 0, 'n'),\n",
       "  Text(120.4, 0, 'o'),\n",
       "  Text(121.60000000000001, 0, 'p'),\n",
       "  Text(122.80000000000001, 0, 'q'),\n",
       "  Text(124.0, 0, 'r'),\n",
       "  Text(125.2, 0, 's'),\n",
       "  Text(126.4, 0, 't'),\n",
       "  Text(127.60000000000001, 0, 'u'),\n",
       "  Text(128.8, 0, 'v'),\n",
       "  Text(130.0, 0, 'w'),\n",
       "  Text(131.20000000000002, 0, 'x'),\n",
       "  Text(132.4, 0, 'y'),\n",
       "  Text(133.60000000000002, 0, 'z'),\n",
       "  Text(137.8, 0, 'a'),\n",
       "  Text(139.0, 0, 'b'),\n",
       "  Text(140.20000000000002, 0, 'c'),\n",
       "  Text(141.4, 0, 'd'),\n",
       "  Text(142.60000000000002, 0, 'e'),\n",
       "  Text(143.8, 0, 'f'),\n",
       "  Text(145.0, 0, 'g'),\n",
       "  Text(146.20000000000002, 0, 'h'),\n",
       "  Text(147.4, 0, 'i'),\n",
       "  Text(148.60000000000002, 0, 'j'),\n",
       "  Text(149.8, 0, 'k'),\n",
       "  Text(151.0, 0, 'l'),\n",
       "  Text(152.20000000000002, 0, 'm'),\n",
       "  Text(153.4, 0, 'n'),\n",
       "  Text(154.60000000000002, 0, 'o'),\n",
       "  Text(155.8, 0, 'p'),\n",
       "  Text(157.0, 0, 'q'),\n",
       "  Text(158.20000000000002, 0, 'r'),\n",
       "  Text(159.4, 0, 's'),\n",
       "  Text(160.60000000000002, 0, 't'),\n",
       "  Text(161.8, 0, 'u'),\n",
       "  Text(163.0, 0, 'v'),\n",
       "  Text(164.20000000000002, 0, 'w'),\n",
       "  Text(165.4, 0, 'x'),\n",
       "  Text(166.60000000000002, 0, 'y'),\n",
       "  Text(167.8, 0, 'z')])"
      ]
     },
     "execution_count": 47,
     "metadata": {},
     "output_type": "execute_result"
    },
    {
     "data": {
      "image/png": "[encoded data removed]",
      "text/plain": [
       "<Figure size 1800x432 with 1 Axes>"
      ]
     },
     "metadata": {
      "needs_background": "light"
     },
     "output_type": "display_data"
    }
   ],
   "source": [
    "# Graphing each position's best letters\n",
    "import string\n",
    "from matplotlib.pyplot import figure\n",
    "\n",
    "alphabet = string.ascii_lowercase\n",
    "\n",
    "width = 1.2\n",
    "group_gap = 3\n",
    "start = 1\n",
    "num_groups = 5\n",
    "group_size = len(alphabet)\n",
    "\n",
    "group_starts = [start]\n",
    "for i in range(1, num_groups):\n",
    "    group_starts.append(group_starts[-1] + group_size * width + group_gap)\n",
    "\n",
    "figure(figsize=(25, 6))\n",
    "\n",
    "count = 0\n",
    "for i, group_start in enumerate(group_starts):\n",
    "    spots = [group_start + width * i for i in range(group_size)]\n",
    "    y = [position_count[(i, letter)] for letter in alphabet]\n",
    "    plt.bar(spots, y)\n",
    "    count += 1\n",
    "\n",
    "label_text = []\n",
    "label_spots = []\n",
    "# label_spots = [group_start + group_size * width /2 for i in range(group_size)]\n",
    "label_spots = []\n",
    "for i, start in enumerate(group_starts):\n",
    "    label_spots += [start + width * i for i in range(group_size)]\n",
    "label_text = list(alphabet*5)\n",
    "\n",
    "plt.xticks(label_spots, label_text)"
   ]
  },
  {
   "cell_type": "code",
   "execution_count": 48,
   "metadata": {},
   "outputs": [
    {
     "data": {
      "text/plain": [
       "([<matplotlib.axis.XTick at 0x1208f2460>,\n",
       "  <matplotlib.axis.XTick at 0x1208f2430>,\n",
       "  <matplotlib.axis.XTick at 0x1208afee0>,\n",
       "  <matplotlib.axis.XTick at 0x120a2c3a0>,\n",
       "  <matplotlib.axis.XTick at 0x120a2caf0>,\n",
       "  <matplotlib.axis.XTick at 0x120a2c730>,\n",
       "  <matplotlib.axis.XTick at 0x120a32430>,\n",
       "  <matplotlib.axis.XTick at 0x120a32b80>,\n",
       "  <matplotlib.axis.XTick at 0x120a37310>,\n",
       "  <matplotlib.axis.XTick at 0x120a37a60>,\n",
       "  <matplotlib.axis.XTick at 0x120a3e1f0>,\n",
       "  <matplotlib.axis.XTick at 0x120a37e50>,\n",
       "  <matplotlib.axis.XTick at 0x120a32df0>,\n",
       "  <matplotlib.axis.XTick at 0x120a3ea90>,\n",
       "  <matplotlib.axis.XTick at 0x120a45040>,\n",
       "  <matplotlib.axis.XTick at 0x120a45670>,\n",
       "  <matplotlib.axis.XTick at 0x120a45dc0>,\n",
       "  <matplotlib.axis.XTick at 0x120a4c550>,\n",
       "  <matplotlib.axis.XTick at 0x120a45b50>,\n",
       "  <matplotlib.axis.XTick at 0x120a32160>,\n",
       "  <matplotlib.axis.XTick at 0x120a4c190>,\n",
       "  <matplotlib.axis.XTick at 0x120a52220>,\n",
       "  <matplotlib.axis.XTick at 0x120a52970>,\n",
       "  <matplotlib.axis.XTick at 0x120a58100>,\n",
       "  <matplotlib.axis.XTick at 0x120a58850>,\n",
       "  <matplotlib.axis.XTick at 0x120a52730>],\n",
       " [Text(3.0, 0, 'a'),\n",
       "  Text(10.0, 0, 'b'),\n",
       "  Text(17.0, 0, 'c'),\n",
       "  Text(24.0, 0, 'd'),\n",
       "  Text(31.0, 0, 'e'),\n",
       "  Text(38.0, 0, 'f'),\n",
       "  Text(45.0, 0, 'g'),\n",
       "  Text(52.0, 0, 'h'),\n",
       "  Text(59.0, 0, 'i'),\n",
       "  Text(66.0, 0, 'j'),\n",
       "  Text(73.0, 0, 'k'),\n",
       "  Text(80.0, 0, 'l'),\n",
       "  Text(87.0, 0, 'm'),\n",
       "  Text(94.0, 0, 'n'),\n",
       "  Text(101.0, 0, 'o'),\n",
       "  Text(108.0, 0, 'p'),\n",
       "  Text(115.0, 0, 'q'),\n",
       "  Text(122.0, 0, 'r'),\n",
       "  Text(129.0, 0, 's'),\n",
       "  Text(136.0, 0, 't'),\n",
       "  Text(143.0, 0, 'u'),\n",
       "  Text(150.0, 0, 'v'),\n",
       "  Text(157.0, 0, 'w'),\n",
       "  Text(164.0, 0, 'x'),\n",
       "  Text(171.0, 0, 'y'),\n",
       "  Text(178.0, 0, 'z')])"
      ]
     },
     "execution_count": 48,
     "metadata": {},
     "output_type": "execute_result"
    },
    {
     "data": {
      "image/png": "[encoded data removed]",
      "text/plain": [
       "<Figure size 1800x432 with 1 Axes>"
      ]
     },
     "metadata": {
      "needs_background": "light"
     },
     "output_type": "display_data"
    }
   ],
   "source": [
    "# Graphing each letter's best position\n",
    "from matplotlib.pyplot import figure\n",
    "\n",
    "width = 1\n",
    "group_gap = 2\n",
    "start = 1\n",
    "num_groups = len(alphabet)\n",
    "group_size = 5\n",
    "\n",
    "group_starts = [start]\n",
    "for i in range(1, num_groups):\n",
    "    group_starts.append(group_starts[-1] + group_size * width + group_gap)\n",
    "\n",
    "\n",
    "figure(figsize=(25, 6))\n",
    "\n",
    "label_spots = []\n",
    "label_text = []\n",
    "\n",
    "for i, group_start in enumerate(group_starts):\n",
    "    letter = alphabet[i]\n",
    "    spots = [group_start + width * i for i in range(group_size)]\n",
    "    y = [position_count[(i, letter)] for i in range(group_size)]\n",
    "    plt.bar(spots, y)\n",
    "\n",
    "\n",
    "# label_spots = [group_start + group_size * width /2 for i in range(group_size)]\n",
    "label_spots = [group_start + (group_size - 1) * width/2 for group_start in group_starts]\n",
    "label_text = list(alphabet)\n",
    "\n",
    "plt.xticks(label_spots, label_text)"
   ]
  },
  {
   "cell_type": "code",
   "execution_count": 49,
   "metadata": {},
   "outputs": [
    {
     "data": {
      "text/plain": [
       "0.30508998223526684"
      ]
     },
     "execution_count": 49,
     "metadata": {},
     "output_type": "execute_result"
    }
   ],
   "source": [
    "# Scoring based on position - what is the best score?\n",
    "\n",
    "position_count[(4,\"s\")]/len(all_words)"
   ]
  },
  {
   "cell_type": "markdown",
   "metadata": {},
   "source": [
    "## Brining it all together - A scoring system"
   ]
  },
  {
   "cell_type": "code",
   "execution_count": 50,
   "metadata": {},
   "outputs": [
    {
     "name": "stdout",
     "output_type": "stream",
     "text": [
      "tares 2.9605700162199735\n",
      "lares 2.9458948018846067\n",
      "rales 2.9207461187919987\n",
      "rates 2.8952344172395152\n",
      "nares 2.892368888545609\n",
      "dares 2.8839962925774314\n",
      "cares 2.871321541669885\n",
      "tales 2.8700548389588327\n",
      "pares 2.865351046574496\n",
      "aeros 2.8495018150922995\n",
      "mares 2.8484822738858426\n",
      "bares 2.839638526299529\n",
      "toeas 2.8345794392523356\n",
      "lanes 2.8327797945469992\n",
      "aloes 2.8302695605159496\n",
      "tores 2.826276357457326\n",
      "arles 2.8177724569398324\n",
      "gares 2.8177724569398315\n",
      "hares 2.8139955201977296\n",
      "lores 2.811601143121959\n",
      "reais 2.806974588707808\n",
      "aures 2.8019695682397465\n",
      "teras 2.8005020468062094\n",
      "dales 2.7934811153162897\n",
      "earls 2.7909245385031287\n",
      "roles 2.7864524600293503\n",
      "laers 2.7825982853170625\n",
      "races 2.7781184830462653\n",
      "nates 2.7763420097319838\n",
      "rapes 2.775036688035838\n",
      "pales 2.774835869313355\n",
      "fares 2.773499652429134\n",
      "tears 2.7733992430678915\n",
      "dates 2.7679694137638062\n",
      "reals 2.7678998995906383\n",
      "rones 2.7638526299528845\n",
      "rotes 2.760940758476867\n",
      "earns 2.759913493473392\n",
      "lears 2.7587240287325248\n",
      "canes 2.7582065343322775\n"
     ]
    }
   ],
   "source": [
    "# # Brining it all together\n",
    "from collections import defaultdict\n",
    "\n",
    "def score_possibilites(word_selection, total_words=None):\n",
    "    score_count = defaultdict(int)\n",
    "    if total_words == None:\n",
    "        total_words = len(word_selection)\n",
    "\n",
    "    for word in word_selection:\n",
    "        if len(set(list(word))) < len(word):\n",
    "            continue\n",
    "        # for letter in [\"y\", \"w\", \"l\", \"r\", \"m\", \"n\", \"ng\"]:\n",
    "        #     if letter in word:\n",
    "        #         score_count[word] += 0.5\n",
    "        # for  letter in \"aeiou\":\n",
    "        #     if letter in word:\n",
    "        #         score_count[word] += 0.5\n",
    "        for letter in set(list(word)):\n",
    "            score_count[word] += total_count[letter]/total_words\n",
    "        for i, letter in enumerate(word):\n",
    "            position_score = position_count[(i, letter)]/total_words\n",
    "            score_count[word] += 1.1 * position_score\n",
    "\n",
    "    sorted_score_count = sorted(list(score_count.items()), key=lambda x:x[1], reverse=True)\n",
    "    return sorted_score_count\n",
    "\n",
    "sorted_score_count = score_possibilites(all_words, len(all_words))\n",
    "for word, score in sorted_score_count[0:40]:\n",
    "    print(word, score)"
   ]
  },
  {
   "cell_type": "markdown",
   "metadata": {},
   "source": [
    "## Are we ready for turn 2?\n",
    "Have we set ourselvse up for success? Or taken all the useful letters in one go?\n",
    "\n",
    "How our scoring system looks going into turn 2 \n",
    "(if you want to try a disjoin word, or you're palying hard mode and your first word is a dud!)"
   ]
  },
  {
   "cell_type": "code",
   "execution_count": null,
   "metadata": {},
   "outputs": [],
   "source": [
    "sorted_score_count = score_possibilites(all_words, len(all_words))\n",
    "\n",
    "\n",
    "def no_incorect_letters(word, incorrect):\n",
    "    for letter in word:\n",
    "        if letter in incorrect:\n",
    "            return False\n",
    "    return True\n",
    "\n",
    "def eliminate_first_letters(word_selection, first_word):\n",
    "    remaining_words = []\n",
    "    for word in word_selection:\n",
    "        if no_incorect_letters(word, first_word):\n",
    "            remaining_words.append(word)\n",
    "    return remaining_words\n",
    "\n",
    "\n",
    "total_words = len(all_words)\n",
    "double_scores = []\n",
    "for first_word, score in sorted_score_count[0:500]:\n",
    "    remaining_words = eliminate_first_letters(all_words, first_word)\n",
    "    second_words = score_possibilites(remaining_words, total_words=total_words)\n",
    "    best_second, second_score = second_words[0]\n",
    "    double_score = (f'{first_word} ({round(score, 2)}) -> {best_second} ({round(second_score,2)})', score + second_score)\n",
    "    double_scores.append(double_score)\n",
    "    # print(f'{first_word} ({round(score, 2)}) -> {best_second} ({round(second_score,2)}) = {round(score + second_score, 2)}')\n",
    "\n",
    "sorted_doubles = sorted(double_scores, key=lambda x: x[1], reverse=True)\n",
    "for content, score in sorted_doubles[:20]:\n",
    "    print(content + \" = \" + str(round(score, 2)))\n",
    "    "
   ]
  }
 ],
 "metadata": {
  "language_info": {
   "name": "python"
  },
  "orig_nbformat": 4
 },
 "nbformat": 4,
 "nbformat_minor": 2
}
